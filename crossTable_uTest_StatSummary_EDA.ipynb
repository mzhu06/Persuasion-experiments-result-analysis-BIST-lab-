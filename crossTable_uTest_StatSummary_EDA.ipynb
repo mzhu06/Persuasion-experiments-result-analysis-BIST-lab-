{
 "cells": [
  {
   "cell_type": "code",
   "execution_count": 246,
   "metadata": {},
   "outputs": [],
   "source": [
    "import pandas as pd\n",
    "import numpy as np"
   ]
  },
  {
   "cell_type": "code",
   "execution_count": 247,
   "metadata": {},
   "outputs": [],
   "source": [
    "#set 1st column as index\n",
    "file = pd.read_csv('Revised data.csv',index_col=0) "
   ]
  },
  {
   "cell_type": "code",
   "execution_count": 248,
   "metadata": {},
   "outputs": [
    {
     "data": {
      "text/html": [
       "<div>\n",
       "<style scoped>\n",
       "    .dataframe tbody tr th:only-of-type {\n",
       "        vertical-align: middle;\n",
       "    }\n",
       "\n",
       "    .dataframe tbody tr th {\n",
       "        vertical-align: top;\n",
       "    }\n",
       "\n",
       "    .dataframe thead th {\n",
       "        text-align: right;\n",
       "    }\n",
       "</style>\n",
       "<table border=\"1\" class=\"dataframe\">\n",
       "  <thead>\n",
       "    <tr style=\"text-align: right;\">\n",
       "      <th></th>\n",
       "      <th>Date</th>\n",
       "      <th>ScheduledStart</th>\n",
       "      <th>ExperimenterLogGender</th>\n",
       "      <th>support.pre</th>\n",
       "      <th>SONAnum</th>\n",
       "      <th>AssignedMedium</th>\n",
       "      <th>ExperiencedMedium</th>\n",
       "      <th>ExperimenterLogAppeal</th>\n",
       "      <th>Experimenter</th>\n",
       "      <th>Confederate</th>\n",
       "      <th>...</th>\n",
       "      <th>gender</th>\n",
       "      <th>genderondemog</th>\n",
       "      <th>medium</th>\n",
       "      <th>asmedium</th>\n",
       "      <th>appeal</th>\n",
       "      <th>all</th>\n",
       "      <th>somesuspicion</th>\n",
       "      <th>nosuspicion</th>\n",
       "      <th>liking</th>\n",
       "      <th>persuasiveness</th>\n",
       "    </tr>\n",
       "  </thead>\n",
       "  <tbody>\n",
       "    <tr>\n",
       "      <th>1.0</th>\n",
       "      <td>10/9/2018</td>\n",
       "      <td>9:30 AM</td>\n",
       "      <td>Male</td>\n",
       "      <td>4.0</td>\n",
       "      <td>2d163</td>\n",
       "      <td>Text</td>\n",
       "      <td>Text</td>\n",
       "      <td>Pathos</td>\n",
       "      <td>Lu/Ayse</td>\n",
       "      <td>Nadav</td>\n",
       "      <td>...</td>\n",
       "      <td>m</td>\n",
       "      <td>m</td>\n",
       "      <td>Text</td>\n",
       "      <td>Text</td>\n",
       "      <td>Pathos</td>\n",
       "      <td>True</td>\n",
       "      <td>True</td>\n",
       "      <td>True</td>\n",
       "      <td>4.666667</td>\n",
       "      <td>2.5</td>\n",
       "    </tr>\n",
       "    <tr>\n",
       "      <th>2.0</th>\n",
       "      <td>10/10/2018</td>\n",
       "      <td>10:30 AM</td>\n",
       "      <td>Female</td>\n",
       "      <td>4.0</td>\n",
       "      <td>2d153</td>\n",
       "      <td>Live</td>\n",
       "      <td>Live</td>\n",
       "      <td>Ethos</td>\n",
       "      <td>Lu/Logan</td>\n",
       "      <td>Tamia</td>\n",
       "      <td>...</td>\n",
       "      <td>f</td>\n",
       "      <td>f</td>\n",
       "      <td>Live</td>\n",
       "      <td>Live</td>\n",
       "      <td>Ethos</td>\n",
       "      <td>True</td>\n",
       "      <td>True</td>\n",
       "      <td>True</td>\n",
       "      <td>5.333333</td>\n",
       "      <td>5.0</td>\n",
       "    </tr>\n",
       "    <tr>\n",
       "      <th>3.0</th>\n",
       "      <td>10/10/2018</td>\n",
       "      <td>1:15 PM</td>\n",
       "      <td>Female</td>\n",
       "      <td>2.0</td>\n",
       "      <td>2b153</td>\n",
       "      <td>Video</td>\n",
       "      <td>Video</td>\n",
       "      <td>Logos</td>\n",
       "      <td>Lu/Danielle</td>\n",
       "      <td>Tamia</td>\n",
       "      <td>...</td>\n",
       "      <td>f</td>\n",
       "      <td>f</td>\n",
       "      <td>Video</td>\n",
       "      <td>Video</td>\n",
       "      <td>Logos</td>\n",
       "      <td>True</td>\n",
       "      <td>True</td>\n",
       "      <td>True</td>\n",
       "      <td>6.666667</td>\n",
       "      <td>7.0</td>\n",
       "    </tr>\n",
       "    <tr>\n",
       "      <th>4.0</th>\n",
       "      <td>10/16/2018</td>\n",
       "      <td>9:30 AM</td>\n",
       "      <td>Male</td>\n",
       "      <td>3.0</td>\n",
       "      <td>2c163</td>\n",
       "      <td>Live</td>\n",
       "      <td>Live</td>\n",
       "      <td>Pathos</td>\n",
       "      <td>Tamia</td>\n",
       "      <td>Nadav</td>\n",
       "      <td>...</td>\n",
       "      <td>m</td>\n",
       "      <td>m</td>\n",
       "      <td>Live</td>\n",
       "      <td>Live</td>\n",
       "      <td>Pathos</td>\n",
       "      <td>True</td>\n",
       "      <td>True</td>\n",
       "      <td>True</td>\n",
       "      <td>4.666667</td>\n",
       "      <td>3.5</td>\n",
       "    </tr>\n",
       "    <tr>\n",
       "      <th>5.0</th>\n",
       "      <td>10/16/2018</td>\n",
       "      <td>10:15 AM</td>\n",
       "      <td>Male</td>\n",
       "      <td>2.0</td>\n",
       "      <td>2b163</td>\n",
       "      <td>Live</td>\n",
       "      <td>Live</td>\n",
       "      <td>Pathos</td>\n",
       "      <td>Tamia</td>\n",
       "      <td>Nadav</td>\n",
       "      <td>...</td>\n",
       "      <td>m</td>\n",
       "      <td>m</td>\n",
       "      <td>Live</td>\n",
       "      <td>Live</td>\n",
       "      <td>Pathos</td>\n",
       "      <td>True</td>\n",
       "      <td>True</td>\n",
       "      <td>True</td>\n",
       "      <td>5.333333</td>\n",
       "      <td>3.5</td>\n",
       "    </tr>\n",
       "  </tbody>\n",
       "</table>\n",
       "<p>5 rows × 72 columns</p>\n",
       "</div>"
      ],
      "text/plain": [
       "           Date ScheduledStart ExperimenterLogGender  support.pre SONAnum  \\\n",
       "1.0   10/9/2018        9:30 AM                  Male          4.0   2d163   \n",
       "2.0  10/10/2018       10:30 AM                Female          4.0   2d153   \n",
       "3.0  10/10/2018        1:15 PM                Female          2.0   2b153   \n",
       "4.0  10/16/2018        9:30 AM                  Male          3.0   2c163   \n",
       "5.0  10/16/2018       10:15 AM                  Male          2.0   2b163   \n",
       "\n",
       "    AssignedMedium ExperiencedMedium ExperimenterLogAppeal Experimenter  \\\n",
       "1.0           Text              Text                Pathos      Lu/Ayse   \n",
       "2.0           Live              Live                 Ethos     Lu/Logan   \n",
       "3.0          Video             Video                 Logos  Lu/Danielle   \n",
       "4.0           Live              Live                Pathos        Tamia   \n",
       "5.0           Live              Live                Pathos        Tamia   \n",
       "\n",
       "    Confederate       ...       gender genderondemog medium  asmedium  appeal  \\\n",
       "1.0       Nadav       ...            m             m   Text      Text  Pathos   \n",
       "2.0       Tamia       ...            f             f   Live      Live   Ethos   \n",
       "3.0       Tamia       ...            f             f  Video     Video   Logos   \n",
       "4.0       Nadav       ...            m             m   Live      Live  Pathos   \n",
       "5.0       Nadav       ...            m             m   Live      Live  Pathos   \n",
       "\n",
       "      all  somesuspicion  nosuspicion    liking  persuasiveness  \n",
       "1.0  True           True         True  4.666667             2.5  \n",
       "2.0  True           True         True  5.333333             5.0  \n",
       "3.0  True           True         True  6.666667             7.0  \n",
       "4.0  True           True         True  4.666667             3.5  \n",
       "5.0  True           True         True  5.333333             3.5  \n",
       "\n",
       "[5 rows x 72 columns]"
      ]
     },
     "execution_count": 248,
     "metadata": {},
     "output_type": "execute_result"
    }
   ],
   "source": [
    "file.head(5)"
   ]
  },
  {
   "cell_type": "code",
   "execution_count": 251,
   "metadata": {},
   "outputs": [],
   "source": [
    "file['post-pre'] = file['support.post'] - file['support.pre']"
   ]
  },
  {
   "cell_type": "code",
   "execution_count": 257,
   "metadata": {},
   "outputs": [
    {
     "data": {
      "text/plain": [
       "array([ 1., -2.,  4.,  0.,  2.,  3., -1., -3.,  5.,  6., nan])"
      ]
     },
     "execution_count": 257,
     "metadata": {},
     "output_type": "execute_result"
    }
   ],
   "source": [
    "file['post-pre'].unique()"
   ]
  },
  {
   "cell_type": "code",
   "execution_count": 255,
   "metadata": {},
   "outputs": [
    {
     "data": {
      "text/plain": [
       "array(['Male', 'Female', nan], dtype=object)"
      ]
     },
     "execution_count": 255,
     "metadata": {},
     "output_type": "execute_result"
    }
   ],
   "source": [
    "file['ExperimenterLogGender'].unique()"
   ]
  },
  {
   "cell_type": "code",
   "execution_count": 254,
   "metadata": {},
   "outputs": [],
   "source": [
    "#data organizing \n",
    "file['ExperimenterLogGender'].loc[file['ExperimenterLogGender'] == 'female'] = 'Female'"
   ]
  },
  {
   "cell_type": "code",
   "execution_count": 258,
   "metadata": {},
   "outputs": [],
   "source": [
    "#### df: extract fake<>1 data\n",
    "df = file.loc[file['FakeRatingGoogleDoc']!= 1]"
   ]
  },
  {
   "cell_type": "code",
   "execution_count": 259,
   "metadata": {},
   "outputs": [],
   "source": [
    "#drop index = NAN \n",
    "#df = df.reset_index().dropna().set_index('index')\n",
    "df = df[df.index.notnull()]"
   ]
  },
  {
   "cell_type": "code",
   "execution_count": 261,
   "metadata": {},
   "outputs": [
    {
     "data": {
      "text/plain": [
       "(156, 73)"
      ]
     },
     "execution_count": 261,
     "metadata": {},
     "output_type": "execute_result"
    }
   ],
   "source": [
    "#check df\n",
    "df.shape"
   ]
  },
  {
   "cell_type": "markdown",
   "metadata": {},
   "source": [
    "## Cross tables"
   ]
  },
  {
   "cell_type": "code",
   "execution_count": 409,
   "metadata": {},
   "outputs": [
    {
     "name": "stdout",
     "output_type": "stream",
     "text": [
      "ExperimenterLogGender  Female  Male  All\n",
      "post-pre                                \n",
      "-3.0                        1     1    2\n",
      "-2.0                        3     1    4\n",
      "-1.0                        1     3    4\n",
      "0.0                        13     8   21\n",
      "1.0                        20     9   29\n",
      "2.0                        24    20   44\n",
      "3.0                        20     6   26\n",
      "4.0                         7     5   12\n",
      "5.0                         6     5   11\n",
      "6.0                         1     2    3\n",
      "All                        96    60  156\n",
      "ExperimenterLogAppeal  Ethos  Logos  Pathos  All\n",
      "post-pre                                        \n",
      "-3.0                       1      1       0    2\n",
      "-2.0                       4      0       0    4\n",
      "-1.0                       2      0       2    4\n",
      "0.0                        7      5       9   21\n",
      "1.0                        8      5      16   29\n",
      "2.0                       12     20      12   44\n",
      "3.0                       10      6      10   26\n",
      "4.0                        1      4       7   12\n",
      "5.0                        5      5       1   11\n",
      "6.0                        1      2       0    3\n",
      "All                       51     48      57  156\n",
      "ExperiencedMedium  Live  Text  Video  All\n",
      "post-pre                                 \n",
      "-3.0                  0     1      1    2\n",
      "-2.0                  1     2      1    4\n",
      "-1.0                  1     2      1    4\n",
      "0.0                   9     5      7   21\n",
      "1.0                  12    12      5   29\n",
      "2.0                  13    16     15   44\n",
      "3.0                  10     7      9   26\n",
      "4.0                   1     4      7   12\n",
      "5.0                   4     3      4   11\n",
      "6.0                   2     1      0    3\n",
      "All                  53    53     50  156\n",
      "ExperimenterLogGender  Female  Male  All\n",
      "persuasive                              \n",
      "1.0                         0     2    2\n",
      "2.0                         2     1    3\n",
      "3.0                         7     6   13\n",
      "4.0                         2     8   10\n",
      "5.0                        25    14   39\n",
      "6.0                        35    17   52\n",
      "7.0                        25    12   37\n",
      "All                        96    60  156\n",
      "ExperimenterLogGender  Female  Male  All\n",
      "strongargument                          \n",
      "1.0                         2     3    5\n",
      "2.0                         2     3    5\n",
      "3.0                         5     3    8\n",
      "4.0                         6     7   13\n",
      "5.0                        18    12   30\n",
      "6.0                        28    17   45\n",
      "7.0                        35    15   50\n",
      "All                        96    60  156\n",
      "ExperimenterLogGender  Female  Male  All\n",
      "engagingstyle                           \n",
      "1.0                         0     3    3\n",
      "2.0                         3     4    7\n",
      "3.0                         7     7   14\n",
      "4.0                        11    14   25\n",
      "5.0                        12    16   28\n",
      "6.0                        37     9   46\n",
      "7.0                        26     7   33\n",
      "All                        96    60  156\n",
      "ExperimenterLogGender  Female  Male  All\n",
      "tryingpersuade                          \n",
      "1.0                        20    16   36\n",
      "2.0                        12     9   21\n",
      "3.0                        15    11   26\n",
      "4.0                        25    16   41\n",
      "5.0                        12     3   15\n",
      "6.0                         9     5   14\n",
      "7.0                         3     0    3\n",
      "All                        96    60  156\n",
      "ExperimenterLogGender  Female  Male  All\n",
      "genuineopinion                          \n",
      "1.0                         1     1    2\n",
      "2.0                         1     5    6\n",
      "3.0                         1     1    2\n",
      "4.0                         5     9   14\n",
      "5.0                         9    15   24\n",
      "6.0                        30    15   45\n",
      "7.0                        49    14   63\n",
      "All                        96    60  156\n"
     ]
    }
   ],
   "source": [
    "t1 = pd.crosstab(df['post-pre'],df['ExperimenterLogGender'],margins=True)\n",
    "t2 = pd.crosstab(df['post-pre'],df['ExperimenterLogAppeal'],margins=True)\n",
    "t3 = pd.crosstab(df['post-pre'],df['ExperiencedMedium'],margins=True)\n",
    "t4 = pd.crosstab(df['persuasive'],df['ExperimenterLogGender'],margins=True)\n",
    "t5=pd.crosstab(df['strongargument'],df['ExperimenterLogGender'],margins=True) \n",
    "t6=pd.crosstab(df['engagingstyle'],df['ExperimenterLogGender'],margins=True)\n",
    "t7=pd.crosstab(df['tryingpersuade'],df['ExperimenterLogGender'],margins=True) \n",
    "t8=pd.crosstab(df['genuineopinion'],df['ExperimenterLogGender'],margins=True) \n",
    "\n",
    "table_list=[t1,t2,t3,t4,t5,t6,t7,t8]\n",
    "for i in table_list:\n",
    "    print(i)\n",
    "\n",
    "#write all cross table into excel\n",
    "## Create a Pandas Excel writer using XlsxWriter as the engine.\n",
    "#writer = pd.ExcelWriter('crosstables.xlsx', engine='xlsxwriter')\n",
    "#\n",
    "## Write each dataframe to a different worksheet.\n",
    "#t1.to_excel(writer, sheet_name='Sheet1')\n",
    "#t2.to_excel(writer, sheet_name='Sheet2')\n",
    "#t3.to_excel(writer, sheet_name='Sheet3')\n",
    "#t4.to_excel(writer, sheet_name='Sheet4')\n",
    "#t5.to_excel(writer, sheet_name='Sheet5')\n",
    "#t6.to_excel(writer, sheet_name='Sheet6')\n",
    "#t7.to_excel(writer, sheet_name='Sheet7')\n",
    "#t8.to_excel(writer, sheet_name='Sheet8')\n",
    "#\n",
    "# Close the Pandas Excel writer and output the Excel file.\n",
    "#writer.save()"
   ]
  },
  {
   "cell_type": "markdown",
   "metadata": {},
   "source": [
    "## U test"
   ]
  },
  {
   "cell_type": "code",
   "execution_count": 353,
   "metadata": {},
   "outputs": [],
   "source": [
    "from scipy import stats\n",
    "import matplotlib.pyplot as plt\n",
    "import seaborn as sns"
   ]
  },
  {
   "cell_type": "markdown",
   "metadata": {},
   "source": [
    "**U test 1: male and female's post-pre score**"
   ]
  },
  {
   "cell_type": "code",
   "execution_count": 403,
   "metadata": {},
   "outputs": [
    {
     "name": "stdout",
     "output_type": "stream",
     "text": [
      "Gender VS. Post-pre score U-test:  MannwhitneyuResult(statistic=2871.0, pvalue=0.4874161124225903)\n"
     ]
    },
    {
     "data": {
      "image/png": "[encoded data removed]",
      "text/plain": [
       "<Figure size 432x288 with 1 Axes>"
      ]
     },
     "metadata": {
      "needs_background": "light"
     },
     "output_type": "display_data"
    },
    {
     "name": "stdout",
     "output_type": "stream",
     "text": [
      "                      post-pre                                             \n",
      "                         count      mean       std  min  25%  50%  75%  max\n",
      "ExperimenterLogGender                                                      \n",
      "Female                    96.0  1.895833  1.688844 -3.0  1.0  2.0  3.0  6.0\n",
      "Male                      60.0  1.933333  1.894387 -3.0  1.0  2.0  3.0  6.0\n"
     ]
    }
   ],
   "source": [
    "df1=df[['post-pre','ExperimenterLogGender']]\n",
    "#male = df1.loc[df1['ExperimenterLogGender']=='Male']\n",
    "male = df1['post-pre'][df1.ExperimenterLogGender == 'Male'].values\n",
    "#male =df1['post-pre'].loc[df1.ExperimenterLogGender == 'Male'].values\n",
    "female = df1['post-pre'][df1.ExperimenterLogGender == 'Female'].values\n",
    "print('Gender VS. Post-pre score U-test: ', stats.mannwhitneyu(male,female))\n",
    "\n",
    "#boxplot\n",
    "plot1=sns.boxplot(y='post-pre',x='ExperimenterLogGender',data=df1)\n",
    "plt.title('Gender VS. Post-pre score Boxplot')\n",
    "plt.show()\n",
    "\n",
    "#descriptive summary\n",
    "summary1 = df1.groupby('ExperimenterLogGender').describe()\n",
    "print(summary1)"
   ]
  },
  {
   "cell_type": "markdown",
   "metadata": {},
   "source": [
    "**U test 2: Log appeal VS. post-pre score**"
   ]
  },
  {
   "cell_type": "code",
   "execution_count": 393,
   "metadata": {},
   "outputs": [
    {
     "data": {
      "text/plain": [
       "array(['Pathos', 'Ethos', 'Logos'], dtype=object)"
      ]
     },
     "execution_count": 393,
     "metadata": {},
     "output_type": "execute_result"
    }
   ],
   "source": [
    "df['ExperimenterLogAppeal'].unique()"
   ]
  },
  {
   "cell_type": "code",
   "execution_count": 389,
   "metadata": {},
   "outputs": [
    {
     "name": "stdout",
     "output_type": "stream",
     "text": [
      "Pathos&Ethos VS. Post-pre score Boxplot U-test:  MannwhitneyuResult(statistic=1427.5, pvalue=0.4366331506598958)\n",
      "Logos&Ethos VS. Post-pre score Boxplot U-test:  MannwhitneyuResult(statistic=994.5, pvalue=0.05059364198506506)\n",
      "Pathos&Logos VS. Post-pre score Boxplot U-test:  MannwhitneyuResult(statistic=1078.0, pvalue=0.028451081125271827)\n"
     ]
    },
    {
     "data": {
      "image/png": "[encoded data removed]",
      "text/plain": [
       "<Figure size 432x288 with 1 Axes>"
      ]
     },
     "metadata": {
      "needs_background": "light"
     },
     "output_type": "display_data"
    },
    {
     "name": "stdout",
     "output_type": "stream",
     "text": [
      "                      post-pre                                             \n",
      "                         count      mean       std  min  25%  50%  75%  max\n",
      "ExperimenterLogAppeal                                                      \n",
      "Ethos                     51.0  1.647059  2.057411 -3.0  0.0  2.0  3.0  6.0\n",
      "Logos                     48.0  2.354167  1.744165 -3.0  2.0  2.0  3.0  6.0\n",
      "Pathos                    57.0  1.771930  1.427004 -1.0  1.0  2.0  3.0  5.0\n"
     ]
    }
   ],
   "source": [
    "df2=df[['post-pre','ExperimenterLogAppeal']]\n",
    "pathos=df2['post-pre'][df['ExperimenterLogAppeal']=='Pathos'].values\n",
    "ethos=df2['post-pre'][df['ExperimenterLogAppeal']=='Ethos'].values\n",
    "logos=df2['post-pre'][df['ExperimenterLogAppeal']=='Logos'].values\n",
    "\n",
    "print('Pathos&Ethos VS. Post-pre score U-test: ', stats.mannwhitneyu(pathos,ethos))\n",
    "print('Logos&Ethos VS. Post-pre score U-test: ', stats.mannwhitneyu(ethos,logos))\n",
    "print('Pathos&Logos VS. Post-pre score U-test: ', stats.mannwhitneyu(pathos,logos))\n",
    "\n",
    "#boxplot\n",
    "plot2=sns.boxplot(y='post-pre',x='ExperimenterLogAppeal',data=df2)\n",
    "plt.title('Log appeal VS. Post-pre score Boxplot')\n",
    "plt.show()\n",
    "\n",
    "#descriptive summary\n",
    "summary2 = df2.groupby('ExperimenterLogAppeal').describe()\n",
    "print(summary2)"
   ]
  },
  {
   "cell_type": "markdown",
   "metadata": {},
   "source": [
    "**U test 3: Mediums VS. post-pre score**"
   ]
  },
  {
   "cell_type": "code",
   "execution_count": 395,
   "metadata": {},
   "outputs": [
    {
     "data": {
      "text/plain": [
       "array(['Text', 'Live', 'Video'], dtype=object)"
      ]
     },
     "execution_count": 395,
     "metadata": {},
     "output_type": "execute_result"
    }
   ],
   "source": [
    "df['ExperiencedMedium'].unique()"
   ]
  },
  {
   "cell_type": "code",
   "execution_count": 399,
   "metadata": {},
   "outputs": [
    {
     "name": "stdout",
     "output_type": "stream",
     "text": [
      "Text&Live VS. Post-pre score Boxplot U-test:  MannwhitneyuResult(statistic=1384.5, pvalue=0.44999208289480286)\n",
      "Text&Video VS. Post-pre score Boxplot U-test:  MannwhitneyuResult(statistic=1156.5, pvalue=0.12911365578599737)\n",
      "Video&Live VS. Post-pre score Boxplot U-test:  MannwhitneyuResult(statistic=1184.5, pvalue=0.17344472762034968)\n"
     ]
    },
    {
     "data": {
      "image/png": "[encoded data removed]",
      "text/plain": [
       "<Figure size 432x288 with 1 Axes>"
      ]
     },
     "metadata": {
      "needs_background": "light"
     },
     "output_type": "display_data"
    },
    {
     "name": "stdout",
     "output_type": "stream",
     "text": [
      "                  post-pre                                             \n",
      "                     count      mean       std  min  25%  50%  75%  max\n",
      "ExperiencedMedium                                                      \n",
      "Live                  53.0  1.905660  1.723861 -2.0  1.0  2.0  3.0  6.0\n",
      "Text                  53.0  1.754717  1.807098 -3.0  1.0  2.0  3.0  6.0\n",
      "Video                 50.0  2.080000  1.782454 -3.0  1.0  2.0  3.0  5.0\n"
     ]
    }
   ],
   "source": [
    "df3=df[['post-pre','ExperiencedMedium']]\n",
    "text=df3['post-pre'].loc[df['ExperiencedMedium']=='Text'].values\n",
    "live=df3['post-pre'].loc[df['ExperiencedMedium']=='Live'].values\n",
    "video=df3['post-pre'].loc[df['ExperiencedMedium']=='Video'].values\n",
    "\n",
    "print('Text&Live VS. Post-pre score U-test: ', stats.mannwhitneyu(text,live))\n",
    "print('Text&Video VS. Post-pre score U-test: ', stats.mannwhitneyu(text,video))\n",
    "print('Video&Live VS. Post-pre score U-test: ', stats.mannwhitneyu(video,live))\n",
    "\n",
    "#boxplot\n",
    "plot3=sns.boxplot(y='post-pre',x='ExperiencedMedium',data=df3)\n",
    "plt.title('Medium VS. Post-pre score Boxplot')\n",
    "plt.show()\n",
    "\n",
    "#descriptive summary\n",
    "summary3 = df3.groupby('ExperiencedMedium').describe()\n",
    "print(summary3)\n"
   ]
  },
  {
   "cell_type": "markdown",
   "metadata": {},
   "source": [
    "**U test 4: Persuasiveness VS. Gender**"
   ]
  },
  {
   "cell_type": "code",
   "execution_count": 400,
   "metadata": {},
   "outputs": [
    {
     "name": "stdout",
     "output_type": "stream",
     "text": [
      "Gender VS. Persuasive U-test:  MannwhitneyuResult(statistic=2354.5, pvalue=0.023867049466523668)\n"
     ]
    },
    {
     "data": {
      "image/png": "[encoded data removed]",
      "text/plain": [
       "<Figure size 432x288 with 1 Axes>"
      ]
     },
     "metadata": {
      "needs_background": "light"
     },
     "output_type": "display_data"
    },
    {
     "name": "stdout",
     "output_type": "stream",
     "text": [
      "                      persuasive                                             \n",
      "                           count      mean       std  min  25%  50%  75%  max\n",
      "ExperimenterLogGender                                                        \n",
      "Female                      96.0  5.656250  1.221114  2.0  5.0  6.0  7.0  7.0\n",
      "Male                        60.0  5.166667  1.520110  1.0  4.0  5.0  6.0  7.0\n"
     ]
    }
   ],
   "source": [
    "df4=df[['persuasive','ExperimenterLogGender']]\n",
    "male = df4['persuasive'][df4.ExperimenterLogGender == 'Male'].values\n",
    "female = df4['persuasive'][df4.ExperimenterLogGender == 'Female'].values\n",
    "print('Gender VS. Persuasive U-test: ', stats.mannwhitneyu(male,female))\n",
    "\n",
    "#boxplot\n",
    "plot4=sns.boxplot(y='persuasive',x='ExperimenterLogGender',data=df4)\n",
    "plt.title('Gender VS. Persuasive Boxplot')\n",
    "plt.show()\n",
    "\n",
    "#descriptive summary\n",
    "summary4 = df4.groupby('ExperimenterLogGender').describe()\n",
    "print(summary4)"
   ]
  },
  {
   "cell_type": "markdown",
   "metadata": {},
   "source": [
    "**U test 5: Strong argument VS. Gender**"
   ]
  },
  {
   "cell_type": "code",
   "execution_count": 404,
   "metadata": {},
   "outputs": [
    {
     "name": "stdout",
     "output_type": "stream",
     "text": [
      "Gender VS. Strong argument U-test:  MannwhitneyuResult(statistic=2380.0, pvalue=0.029950697063402053)\n"
     ]
    },
    {
     "data": {
      "image/png": "[encoded data removed]",
      "text/plain": [
       "<Figure size 432x288 with 1 Axes>"
      ]
     },
     "metadata": {
      "needs_background": "light"
     },
     "output_type": "display_data"
    },
    {
     "name": "stdout",
     "output_type": "stream",
     "text": [
      "                      strongargument                                           \\\n",
      "                               count      mean       std  min  25%  50%   75%   \n",
      "ExperimenterLogGender                                                           \n",
      "Female                          96.0  5.708333  1.435759  1.0  5.0  6.0  7.00   \n",
      "Male                            60.0  5.216667  1.688362  1.0  4.0  6.0  6.25   \n",
      "\n",
      "                            \n",
      "                       max  \n",
      "ExperimenterLogGender       \n",
      "Female                 7.0  \n",
      "Male                   7.0  \n"
     ]
    }
   ],
   "source": [
    "df5=df[['strongargument','ExperimenterLogGender']]\n",
    "male = df5['strongargument'][df5.ExperimenterLogGender == 'Male'].values\n",
    "female = df5['strongargument'][df5.ExperimenterLogGender == 'Female'].values\n",
    "print('Gender VS. Strong argument U-test: ', stats.mannwhitneyu(male,female))\n",
    "\n",
    "#boxplot\n",
    "plot5=sns.boxplot(y='strongargument',x='ExperimenterLogGender',data=df5)\n",
    "plt.title('Gender VS. Strong argument Boxplot')\n",
    "plt.show()\n",
    "\n",
    "#descriptive summary\n",
    "summary5 = df5.groupby('ExperimenterLogGender').describe()\n",
    "print(summary5)"
   ]
  },
  {
   "cell_type": "markdown",
   "metadata": {},
   "source": [
    "**U test 6: Engaging style VS. Gender**"
   ]
  },
  {
   "cell_type": "code",
   "execution_count": 405,
   "metadata": {},
   "outputs": [
    {
     "name": "stdout",
     "output_type": "stream",
     "text": [
      "Gender VS. Engaging style U-test:  MannwhitneyuResult(statistic=1745.0, pvalue=1.1649027258272846e-05)\n"
     ]
    },
    {
     "data": {
      "image/png": "[encoded data removed]",
      "text/plain": [
       "<Figure size 432x288 with 1 Axes>"
      ]
     },
     "metadata": {
      "needs_background": "light"
     },
     "output_type": "display_data"
    },
    {
     "name": "stdout",
     "output_type": "stream",
     "text": [
      "                      engagingstyle                                          \\\n",
      "                              count      mean       std  min  25%  50%  75%   \n",
      "ExperimenterLogGender                                                         \n",
      "Female                         96.0  5.572917  1.359139  2.0  5.0  6.0  7.0   \n",
      "Male                           60.0  4.516667  1.589069  1.0  4.0  5.0  6.0   \n",
      "\n",
      "                            \n",
      "                       max  \n",
      "ExperimenterLogGender       \n",
      "Female                 7.0  \n",
      "Male                   7.0  \n"
     ]
    }
   ],
   "source": [
    "df6=df[['engagingstyle','ExperimenterLogGender']]\n",
    "male = df6['engagingstyle'][df6.ExperimenterLogGender == 'Male'].values\n",
    "female = df6['engagingstyle'][df6.ExperimenterLogGender == 'Female'].values\n",
    "print('Gender VS. Engaging style U-test: ', stats.mannwhitneyu(male,female))\n",
    "\n",
    "#boxplot\n",
    "plot6=sns.boxplot(y='engagingstyle',x='ExperimenterLogGender',data=df6)\n",
    "plt.title('Gender VS. Engaging style Boxplot')\n",
    "plt.show()\n",
    "\n",
    "#descriptive summary\n",
    "summary6 = df6.groupby('ExperimenterLogGender').describe()\n",
    "print(summary6)"
   ]
  },
  {
   "cell_type": "markdown",
   "metadata": {},
   "source": [
    "**U test 7: Trying persuade VS. Gender**"
   ]
  },
  {
   "cell_type": "code",
   "execution_count": 406,
   "metadata": {},
   "outputs": [
    {
     "name": "stdout",
     "output_type": "stream",
     "text": [
      "Gender VS.Trying persuade U-test:  MannwhitneyuResult(statistic=2457.0, pvalue=0.058200933834540836)\n"
     ]
    },
    {
     "data": {
      "image/png": "[encoded data removed]",
      "text/plain": [
       "<Figure size 432x288 with 1 Axes>"
      ]
     },
     "metadata": {
      "needs_background": "light"
     },
     "output_type": "display_data"
    },
    {
     "name": "stdout",
     "output_type": "stream",
     "text": [
      "                      tryingpersuade                                           \\\n",
      "                               count      mean       std  min  25%  50%   75%   \n",
      "ExperimenterLogGender                                                           \n",
      "Female                          96.0  3.375000  1.718322  1.0  2.0  4.0  4.25   \n",
      "Male                            60.0  2.933333  1.571641  1.0  1.0  3.0  4.00   \n",
      "\n",
      "                            \n",
      "                       max  \n",
      "ExperimenterLogGender       \n",
      "Female                 7.0  \n",
      "Male                   6.0  \n"
     ]
    }
   ],
   "source": [
    "df7=df[['tryingpersuade','ExperimenterLogGender']]\n",
    "male = df7['tryingpersuade'][df7.ExperimenterLogGender == 'Male'].values\n",
    "female = df7['tryingpersuade'][df7.ExperimenterLogGender == 'Female'].values\n",
    "print('Gender VS.Trying persuade U-test: ', stats.mannwhitneyu(male,female))\n",
    "\n",
    "#boxplot\n",
    "plot7=sns.boxplot(y='tryingpersuade',x='ExperimenterLogGender',data=df7)\n",
    "plt.title('Gender VS.Trying persuade Boxplot')\n",
    "plt.show()\n",
    "\n",
    "#descriptive summary\n",
    "summary7 = df7.groupby('ExperimenterLogGender').describe()\n",
    "print(summary7)"
   ]
  },
  {
   "cell_type": "markdown",
   "metadata": {},
   "source": [
    "**U test 8: Genuine opinion VS. Gender**"
   ]
  },
  {
   "cell_type": "code",
   "execution_count": 408,
   "metadata": {},
   "outputs": [
    {
     "name": "stdout",
     "output_type": "stream",
     "text": [
      "Gender VS.Genuine opinion U-test:  MannwhitneyuResult(statistic=1728.5, pvalue=5.275360635154366e-06)\n"
     ]
    },
    {
     "data": {
      "image/png": "[encoded data removed]",
      "text/plain": [
       "<Figure size 432x288 with 1 Axes>"
      ]
     },
     "metadata": {
      "needs_background": "light"
     },
     "output_type": "display_data"
    },
    {
     "name": "stdout",
     "output_type": "stream",
     "text": [
      "                      genuineopinion                                          \\\n",
      "                               count      mean       std  min  25%  50%  75%   \n",
      "ExperimenterLogGender                                                          \n",
      "Female                          96.0  6.187500  1.145357  1.0  6.0  7.0  7.0   \n",
      "Male                            60.0  5.216667  1.552381  1.0  4.0  5.0  6.0   \n",
      "\n",
      "                            \n",
      "                       max  \n",
      "ExperimenterLogGender       \n",
      "Female                 7.0  \n",
      "Male                   7.0  \n"
     ]
    }
   ],
   "source": [
    "df8=df[['genuineopinion','ExperimenterLogGender']]\n",
    "male = df8['genuineopinion'][df8.ExperimenterLogGender == 'Male'].values\n",
    "female = df8['genuineopinion'][df8.ExperimenterLogGender == 'Female'].values\n",
    "print('Gender VS.Genuine opinion U-test: ', stats.mannwhitneyu(male,female))\n",
    "\n",
    "#boxplot\n",
    "plot8=sns.boxplot(y='genuineopinion',x='ExperimenterLogGender',data=df8)\n",
    "plt.title('Gender VS.Genuine opinion Boxplot')\n",
    "plt.show()\n",
    "\n",
    "#descriptive summary\n",
    "summary8 = df8.groupby('ExperimenterLogGender').describe()\n",
    "print(summary8)"
   ]
  },
  {
   "cell_type": "markdown",
   "metadata": {},
   "source": [
    "## Descriptive Statistics for Birth, Race, and What-year"
   ]
  },
  {
   "cell_type": "code",
   "execution_count": 522,
   "metadata": {},
   "outputs": [],
   "source": [
    "df_person=df[['Q23_1','Q23_4','Q25','Q26']]\n",
    "df_person.columns = ['Birth','Race','Race2','WhatYear']"
   ]
  },
  {
   "cell_type": "markdown",
   "metadata": {},
   "source": [
    "**Birth statistics**"
   ]
  },
  {
   "cell_type": "code",
   "execution_count": 523,
   "metadata": {},
   "outputs": [
    {
     "data": {
      "text/plain": [
       "array(['1999', '1998', '2000', '1997', '7/4/2000', '1996', '1995', '199',\n",
       "       '98', '11/27/1999', '1999,8,9'], dtype=object)"
      ]
     },
     "execution_count": 523,
     "metadata": {},
     "output_type": "execute_result"
    }
   ],
   "source": [
    "df_person['Birth'].unique()"
   ]
  },
  {
   "cell_type": "code",
   "execution_count": 524,
   "metadata": {},
   "outputs": [],
   "source": [
    "#drop error birth year data\n",
    "df_person1 = df_person[df_person.Birth != '199']\n",
    "df_person1['Birth'][df_person1['Birth']=='7/4/2000']='2000'\n",
    "df_person1['Birth'][df_person1['Birth']=='98']='1998'\n",
    "df_person1['Birth'][df_person1['Birth']=='11/27/1999']='1999'\n",
    "df_person1['Birth'][df_person1['Birth']=='1999,8,9']='1999'"
   ]
  },
  {
   "cell_type": "code",
   "execution_count": 525,
   "metadata": {},
   "outputs": [
    {
     "name": "stdout",
     "output_type": "stream",
     "text": [
      "2000    70\n",
      "1999    55\n",
      "1998    19\n",
      "1997     7\n",
      "1995     2\n",
      "1996     2\n",
      "Name: Birth, dtype: int64\n"
     ]
    },
    {
     "data": {
      "text/plain": [
       "Text(0.5, 1.0, 'Frequence Table of Birth Year')"
      ]
     },
     "execution_count": 525,
     "metadata": {},
     "output_type": "execute_result"
    },
    {
     "data": {
      "image/png": "[encoded data removed]",
      "text/plain": [
       "<Figure size 432x288 with 1 Axes>"
      ]
     },
     "metadata": {
      "needs_background": "light"
     },
     "output_type": "display_data"
    }
   ],
   "source": [
    "print(df_person1['Birth'].value_counts())\n",
    "df_person1['Birth'].value_counts().plot(kind='bar')\n",
    "#ax = sns.countplot(x=\"class\", hue=\"who\", data=titanic)\n",
    "plt.title('Frequence Table of Birth Year')"
   ]
  },
  {
   "cell_type": "markdown",
   "metadata": {},
   "source": [
    "**Race**"
   ]
  },
  {
   "cell_type": "code",
   "execution_count": 526,
   "metadata": {},
   "outputs": [
    {
     "data": {
      "text/plain": [
       "array(['3', '4', '5', '1', '6', '9', '2', '1,3', '7', '2,3', '4,5',\n",
       "       '2,3,8', '1,2'], dtype=object)"
      ]
     },
     "execution_count": 526,
     "metadata": {},
     "output_type": "execute_result"
    }
   ],
   "source": [
    "df_person['Race2'].unique()"
   ]
  },
  {
   "cell_type": "code",
   "execution_count": 527,
   "metadata": {},
   "outputs": [],
   "source": [
    "pd.set_option('mode.chained_assignment', None)\n",
    "df_person['Race2'][df_person['Race2']== '1'] = 'Black or African American'\n",
    "df_person['Race2'][df_person['Race2']== '2'] = 'Hispanic or Latino'\n",
    "df_person['Race2'][df_person['Race2']== '3'] = 'White or Caucasian'\n",
    "df_person['Race2'][df_person['Race2']== '4'] = 'East Asian'\n",
    "df_person['Race2'][df_person['Race2']== '5'] = 'South Asian'\n",
    "df_person['Race2'][df_person['Race2']== '6'] = 'Middle Eastern'\n",
    "df_person['Race2'][df_person['Race2']== '7'] = 'Arab or Arab American'\n",
    "df_person['Race2'][df_person['Race2']== '9'] = 'Native Hawaiian or Pacific Islander'\n",
    "df_person['Race2'][df_person['Race2']== '1,3'] = 'Other'\n",
    "df_person['Race2'][df_person['Race2']== '2,3'] = 'Other'\n",
    "df_person['Race2'][df_person['Race2']== '4,5'] = 'Other'\n",
    "df_person['Race2'][df_person['Race2']== '2,3,8'] = 'Other'\n",
    "df_person['Race2'][df_person['Race2']== '1,2'] = 'Other'"
   ]
  },
  {
   "cell_type": "code",
   "execution_count": 528,
   "metadata": {},
   "outputs": [
    {
     "name": "stdout",
     "output_type": "stream",
     "text": [
      "White or Caucasian                     83\n",
      "East Asian                             30\n",
      "Black or African American              12\n",
      "Hispanic or Latino                      9\n",
      "South Asian                             7\n",
      "Other                                   7\n",
      "Native Hawaiian or Pacific Islander     4\n",
      "Middle Eastern                          3\n",
      "Arab or Arab American                   1\n",
      "Name: Race2, dtype: int64\n"
     ]
    },
    {
     "data": {
      "text/plain": [
       "Text(0.5, 1.0, 'Frequence Table of Birth Year')"
      ]
     },
     "execution_count": 528,
     "metadata": {},
     "output_type": "execute_result"
    },
    {
     "data": {
      "image/png": "[encoded data removed]",
      "text/plain": [
       "<Figure size 432x288 with 1 Axes>"
      ]
     },
     "metadata": {
      "needs_background": "light"
     },
     "output_type": "display_data"
    }
   ],
   "source": [
    "print(df_person['Race2'].value_counts())\n",
    "df_person['Race2'].value_counts().plot(kind='bar')\n",
    "#ax = sns.countplot(x=\"class\", hue=\"who\", data=titanic)\n",
    "plt.title('Frequence Table of Birth Year')"
   ]
  },
  {
   "cell_type": "markdown",
   "metadata": {},
   "source": [
    "**What year**"
   ]
  },
  {
   "cell_type": "code",
   "execution_count": 543,
   "metadata": {},
   "outputs": [
    {
     "data": {
      "text/plain": [
       "array(['Freshman', 2.0, 4.0, 3.0], dtype=object)"
      ]
     },
     "execution_count": 543,
     "metadata": {},
     "output_type": "execute_result"
    }
   ],
   "source": [
    "df_person['WhatYear'].unique()"
   ]
  },
  {
   "cell_type": "code",
   "execution_count": 547,
   "metadata": {},
   "outputs": [],
   "source": [
    "freshman = df_person['WhatYear']== 1.0\n",
    "Sophomore = df_person['WhatYear']== 2.0\n",
    "Junior = df_person['WhatYear']== 3.0\n",
    "Senior = df_person['WhatYear']== 4.0\n",
    "\n",
    "df_person['WhatYear'][freshman]='Freshman'\n",
    "df_person['WhatYear'][Sophomore] = 'Sophomore'\n",
    "df_person['WhatYear'][Junior] = 'Junior'\n",
    "df_person['WhatYear'][Senior] = 'Senior'"
   ]
  },
  {
   "cell_type": "code",
   "execution_count": 548,
   "metadata": {},
   "outputs": [
    {
     "data": {
      "text/plain": [
       "array(['Freshman', 'Sophomore', 'Senior', 'Junior'], dtype=object)"
      ]
     },
     "execution_count": 548,
     "metadata": {},
     "output_type": "execute_result"
    }
   ],
   "source": [
    "df_person['WhatYear'].unique()"
   ]
  },
  {
   "cell_type": "code",
   "execution_count": 550,
   "metadata": {},
   "outputs": [
    {
     "name": "stdout",
     "output_type": "stream",
     "text": [
      "Freshman     108\n",
      "Sophomore     29\n",
      "Junior        10\n",
      "Senior         9\n",
      "Name: WhatYear, dtype: int64\n"
     ]
    },
    {
     "data": {
      "text/plain": [
       "Text(0.5, 1.0, 'Frequence Table of What-year')"
      ]
     },
     "execution_count": 550,
     "metadata": {},
     "output_type": "execute_result"
    },
    {
     "data": {
      "image/png": "[encoded data removed]",
      "text/plain": [
       "<Figure size 432x288 with 1 Axes>"
      ]
     },
     "metadata": {
      "needs_background": "light"
     },
     "output_type": "display_data"
    }
   ],
   "source": [
    "print(df_person['WhatYear'].value_counts())\n",
    "df_person['WhatYear'].value_counts().plot(kind='bar')\n",
    "#ax = sns.countplot(x=\"class\", hue=\"who\", data=titanic)\n",
    "plt.title('Frequence Table of What-year')"
   ]
  }
 ],
 "metadata": {
  "kernelspec": {
   "display_name": "Python 3",
   "language": "python",
   "name": "python3"
  },
  "language_info": {
   "codemirror_mode": {
    "name": "ipython",
    "version": 3
   },
   "file_extension": ".py",
   "mimetype": "text/x-python",
   "name": "python",
   "nbconvert_exporter": "python",
   "pygments_lexer": "ipython3",
   "version": "3.7.1"
  }
 },
 "nbformat": 4,
 "nbformat_minor": 2
}
